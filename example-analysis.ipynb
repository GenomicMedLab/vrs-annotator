{
 "cells": [
  {
   "cell_type": "code",
   "execution_count": 34,
   "metadata": {},
   "outputs": [],
   "source": [
    "import csv \n",
    "import pandas as pd\n",
    "import requests\n",
    "\n",
    "from pathlib import Path"
   ]
  },
  {
   "cell_type": "code",
   "execution_count": null,
   "metadata": {},
   "outputs": [],
   "source": [
    "# copy over a VRS-annotated VCF\n",
    "# TODO: insert Google resource path to VCF here\n",
    "\n",
    "! gsutil cp <INSERT_VCF_PATH_HERE> $HOME/output.vcf.gz"
   ]
  },
  {
   "cell_type": "code",
   "execution_count": 36,
   "metadata": {},
   "outputs": [],
   "source": [
    "# write VCF data to csv\n",
    "!bcftools query -f '%CHROM,%POS,%REF,%ALT,%INFO/VRS_Allele_IDs\\n' $HOME/output.vcf.gz > $HOME/vrs_variants.csv"
   ]
  },
  {
   "cell_type": "code",
   "execution_count": 37,
   "metadata": {},
   "outputs": [
    {
     "name": "stdout",
     "output_type": "stream",
     "text": [
      "{'chr': 'chr1', 'pos': '13868', 'ref': 'A', 'alt': 'G', 'allele_ids': ['ga4gh:VA.vDSc19a3c5mQ2mgFZl1WJUZxi4WXrK6W', 'ga4gh:VA.uwLuQlZneuPPZp9heJl75d-qo50g807z']}\n",
      "{'chr': 'chr1', 'pos': '14464', 'ref': 'A', 'alt': 'T', 'allele_ids': ['ga4gh:VA.Bzxw9XQE_QySENb4CHk0cK43_bjJ9mt4', 'ga4gh:VA.6Sa8k_xvufaLprWriYfycD_YUYKLclvT']}\n",
      "{'chr': 'chr1', 'pos': '14948', 'ref': 'G', 'alt': 'A', 'allele_ids': ['ga4gh:VA.O2OR4cW8Ok9wanhu9lAo0Q8mR5ZrAUec', 'ga4gh:VA.gSu849zeLlLb7Fxh6jDUxpTz4zX5RRh3']}\n"
     ]
    }
   ],
   "source": [
    "# setup\n",
    "file_path = f\"{Path.home()}/vrs_variants.csv\"\n",
    "variant_dicts = []\n",
    "i = 0\n",
    "\n",
    "# read csv\n",
    "with open(file_path, 'r') as file:\n",
    "    csv_reader = csv.reader(file)\n",
    "\n",
    "    for row in csv_reader:\n",
    "        variant_dict = {}\n",
    "        # assign the first four entries to their respective keys\n",
    "        variant_dict['chr'] = row[0]\n",
    "        variant_dict['pos'] = row[1]\n",
    "        variant_dict['ref'] = row[2]\n",
    "        variant_dict['alt'] = row[3]\n",
    "\n",
    "        # create an array for the remaining VRS IDs\n",
    "        variant_dict['allele_ids'] = row[4:]\n",
    "        variant_dicts.append(variant_dict)\n",
    "        i += 1\n",
    "        \n",
    "        # print first three dictionaries\n",
    "        if i < 4: \n",
    "            print(variant_dict)"
   ]
  },
  {
   "cell_type": "code",
   "execution_count": 38,
   "metadata": {},
   "outputs": [
    {
     "name": "stdout",
     "output_type": "stream",
     "text": [
      "MetaKB study matches...\n",
      "ga4gh:VA.SOEVGpU16hxYQtJNeRyfq0V-B0rSOGK- (chr1-11796321-G-A)\n",
      "\t civic.eid:669 - The MTHFR C667T variant was associated with significantly lower relapse-free survival and overall survival in stomach cancer patients treated with 5-Fluorouracil-based therapies. 116 Chinese patients with histologically confirmed gastric cancer were used in this study, and all patients had radical surgery before treatment.\n",
      "\t civic.eid:1757 - Patients with the wild type (C/C) MTHFR gene are 2.91 times (95% CI: [1.23, 6.89]) more likely to have a positive response to neoadjuvant CRT and  3.25 times more likely not to experience relapse (95% CI: [1.37, 7.72]) than patients with the heterozygous  MTHFR [rs1801133 (C>T)] mutation or  the homzygous (T/T).\n"
     ]
    }
   ],
   "source": [
    "# search for metakb study hits for each allele\n",
    "METAKB_API = \"https://dev-search.cancervariants.org/api/v2\"\n",
    "\n",
    "print(\"MetaKB study matches...\")\n",
    "for d in variant_dicts:\n",
    "    vrs_ids = d['allele_ids']\n",
    "    \n",
    "    for vrs_id in vrs_ids:\n",
    "        # query metakb studies API\n",
    "        response = requests.get(f\"{METAKB_API}/search/studies?variation={vrs_id}\")\n",
    "\n",
    "        # handle errors\n",
    "        if response.status_code >= 400:\n",
    "            print(f\"API error: {response.text} ({response.status_code})\")\n",
    "            continue\n",
    "        \n",
    "        # output any matching studies\n",
    "        study_json = response.json()\n",
    "        studies = study_json[\"studies\"]\n",
    "        \n",
    "        if len(studies) > 0:\n",
    "            print(f\"{vrs_id} ({d['chr']}-{d['pos']}-{d['ref']}-{d['alt']})\")\n",
    "\n",
    "            for study in studies:\n",
    "                print(\"\\t\", f\"{study['id']} - {study['description']}\")"
   ]
  }
 ],
 "metadata": {
  "kernelspec": {
   "display_name": "Python 3",
   "language": "python",
   "name": "python3"
  },
  "language_info": {
   "codemirror_mode": {
    "name": "ipython",
    "version": 3
   },
   "file_extension": ".py",
   "mimetype": "text/x-python",
   "name": "python",
   "nbconvert_exporter": "python",
   "pygments_lexer": "ipython3",
   "version": "3.10.12"
  },
  "toc": {
   "base_numbering": 1,
   "nav_menu": {},
   "number_sections": true,
   "sideBar": true,
   "skip_h1_title": false,
   "title_cell": "Table of Contents",
   "title_sidebar": "Contents",
   "toc_cell": false,
   "toc_position": {},
   "toc_section_display": true,
   "toc_window_display": false
  }
 },
 "nbformat": 4,
 "nbformat_minor": 2
}
